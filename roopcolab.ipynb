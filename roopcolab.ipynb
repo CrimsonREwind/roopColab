{
  "nbformat": 4,
  "nbformat_minor": 0,
  "metadata": {
    "colab": {
      "provenance": [],
      "gpuType": "T4"
    },
    "kernelspec": {
      "name": "python3",
      "display_name": "Python 3"
    },
    "language_info": {
      "name": "python"
    },
    "accelerator": "GPU"
  },
  "cells": [
    {
      "cell_type": "markdown",
      "source": [
        "#ROOP DEEPFAKE GOOGLE COLAB"
      ],
      "metadata": {
        "id": "MLYxPksNKiuH"
      }
    },
    {
      "cell_type": "markdown",
      "source": [
        "----------------------------------------------------------------------------------------------------------------------------------------------------------------------"
      ],
      "metadata": {
        "id": "fGWIQb7ZBAQo"
      }
    },
    {
      "cell_type": "markdown",
      "source": [
        "#INSTRUCTIONS\n",
        "1- \"Connect Google Drive\". it will mount/connect your google drive storage to colab.  Run it every time you reconnect.\n",
        "\n",
        "2- \"install repo\". it will download ROOP repository on your Gdrive. do this step once, if you have deleted the repo files from your google drive run it again.\n",
        "\n",
        "3- \"Requirements\". it will Downlaod and install all requirements for ROOP Run it every time you reconnect.\n",
        "\n",
        "4- \"Download Model\". You need to do this step one Unless you deleted the model from your Gdrive.\n",
        "\n",
        "5- \"Normal DeepFake\" & \"Enhanced DeepFake\"\n",
        "\n",
        "* dfimg - image input\n",
        "\n",
        "* dfinvid - video input\n",
        "\n",
        "* dfoutvid - final video output\n",
        "\n",
        "\n"
      ],
      "metadata": {
        "id": "ze0rOz23Py9k"
      }
    },
    {
      "cell_type": "markdown",
      "source": [
        "----------------------------------------------------------------------------------------------------------------------------------------------------------------------"
      ],
      "metadata": {
        "id": "Owj9k67AA_UT"
      }
    },
    {
      "cell_type": "code",
      "source": [
        "#@markdown # Connect Google Drive\n",
        "from google.colab import drive\n",
        "from IPython.display import clear_output\n",
        "import ipywidgets as widgets\n",
        "\n",
        "def inf(msg, style, wdth): inf = widgets.Button(description=msg, disabled=True, button_style=style, layout=widgets.Layout(min_width=wdth));display(inf)\n",
        "print(\"\u001b[0;33mConnecting...\")\n",
        "drive.mount('/content/gdrive')\n",
        "\n",
        "clear_output()\n",
        "inf('\\u2714 Done','success', '50px')\n",
        "\n"
      ],
      "metadata": {
        "id": "ZMfmCDGA5u-8",
        "cellView": "form"
      },
      "execution_count": null,
      "outputs": []
    },
    {
      "cell_type": "markdown",
      "source": [
        "----------------------------------------------------------------------------------------------------------------------------------------------------------------------"
      ],
      "metadata": {
        "id": "12qQweoJA0pL"
      }
    },
    {
      "cell_type": "code",
      "source": [
        "#@markdown # Install Repo\n",
        "from IPython.display import clear_output\n",
        "import time\n",
        "import ipywidgets as widgets\n",
        "def inf(msg, style, wdth): inf = widgets.Button(description=msg, disabled=True, button_style=style, layout=widgets.Layout(min_width=wdth));display(inf)\n",
        "%cd /content/gdrive/MyDrive\n",
        "!git clone https://github.com/s0md3v/roop\n",
        "print(\"CHECK FOR ANY ERROR\")\n",
        "time.sleep(5)\n",
        "clear_output()\n",
        "inf('\\u2714 Execution Finished','success', '50px')\n"
      ],
      "metadata": {
        "id": "lpJK-dS36G7E",
        "cellView": "form"
      },
      "execution_count": null,
      "outputs": []
    },
    {
      "cell_type": "markdown",
      "source": [
        "----------------------------------------------------------------------------------------------------------------------------------------------------------------------"
      ],
      "metadata": {
        "id": "HJ6puXjJA5IA"
      }
    },
    {
      "cell_type": "code",
      "source": [
        "#@markdown # Requirements\n",
        "from IPython.display import clear_output\n",
        "import time\n",
        "import ipywidgets as widgets\n",
        "import os\n",
        "def inf(msg, style, wdth): inf = widgets.Button(description=msg, disabled=True, button_style=style, layout=widgets.Layout(min_width=wdth));display(inf)\n",
        "if not os.path.exists(\"/content/gdrive/MyDrive/roop/input\"):\n",
        "  !mkdir /content/gdrive/MyDrive/roop/input\n",
        "\n",
        "if not os.path.exists(\"/content/gdrive/MyDrive/roop/output\"):\n",
        "  !mkdir /content/gdrive/MyDrive/roop/output\n",
        "\n",
        "if not os.path.exists(\"/content/gdrive/MyDrive/roop/models\"):\n",
        "  !mkdir /content/gdrive/MyDrive/roop/models\n",
        "\n",
        "%cd /content/gdrive/MyDrive/roop\n",
        "!pip install onnxruntime-gpu && pip install -r requirements.txt\n",
        "print(\"CHECK FOR ANY ERROR\")\n",
        "time.sleep(5)\n",
        "clear_output()\n",
        "inf('\\u2714 Execution Finished','success', '50px')"
      ],
      "metadata": {
        "id": "WDpgSJkr7XY-",
        "cellView": "form"
      },
      "execution_count": null,
      "outputs": []
    },
    {
      "cell_type": "markdown",
      "source": [
        "----------------------------------------------------------------------------------------------------------------------------------------------------------------------"
      ],
      "metadata": {
        "id": "4uuuaiHlA61V"
      }
    },
    {
      "cell_type": "code",
      "source": [
        "#@markdown # Download model (skip if already downloaded)\n",
        "from IPython.display import clear_output\n",
        "import time\n",
        "import ipywidgets as widgets\n",
        "import os\n",
        "def inf(msg, style, wdth): inf = widgets.Button(description=msg, disabled=True, button_style=style, layout=widgets.Layout(min_width=wdth));display(inf)\n",
        "if not os.path.exists(\"/content/gdrive/MyDrive/roop/models\"):\n",
        "  !mkdir /content/gdrive/MyDrive/roop/models\n",
        "\n",
        "%cd /content/gdrive/MyDrive/roop/models\n",
        "!wget https://huggingface.co/CrimsonREwind/Deepinsightinswapper/resolve/main/inswapper_128.onnx\n",
        "print(\"CHECK FOR ANY ERROR\")\n",
        "time.sleep(5)\n",
        "clear_output()\n",
        "inf('\\u2714 Execution Finished','success', '50px')"
      ],
      "metadata": {
        "id": "7cVZBl6p71VY",
        "cellView": "form"
      },
      "execution_count": null,
      "outputs": []
    },
    {
      "cell_type": "markdown",
      "source": [
        "----------------------------------------------------------------------------------------------------------------------------------------------------------------------"
      ],
      "metadata": {
        "id": "W8q4rOZHA8Gz"
      }
    },
    {
      "cell_type": "code",
      "source": [
        "#@markdown # Normal DeepFake\n",
        "import ipywidgets as widgets\n",
        "def inf(msg, style, wdth): inf = widgets.Button(description=msg, disabled=True, button_style=style, layout=widgets.Layout(min_width=wdth));display(inf)\n",
        "dfimg = \"jenna.png\" #@param {type:\"string\"}\n",
        "apic =\"/content/gdrive/MyDrive/roop/input/\"+dfimg\n",
        "dfinvid = \"emma.mp4\" #@param {type:\"string\"}\n",
        "bpic =\"/content/gdrive/MyDrive/roop/input/\"+dfinvid\n",
        "dfoutvid = \"jenna_emma.mp4\" #@param {type:\"string\"}\n",
        "cpic =\"/content/gdrive/MyDrive/roop/output/\"+dfoutvid\n",
        "\n",
        "%cd /content/gdrive/MyDrive/roop\n",
        "\n",
        "!python run.py -s $apic -t $bpic -o $cpic --keep-frames --keep-fps --execution-provider cuda\n",
        "inf('\\u2714 Execution Finished','success', '50px')"
      ],
      "metadata": {
        "id": "gjAFjn358jbb",
        "cellView": "form"
      },
      "execution_count": null,
      "outputs": []
    },
    {
      "cell_type": "markdown",
      "source": [
        "----------------------------------------------------------------------------------------------------------------------------------------------------------------------"
      ],
      "metadata": {
        "id": "v4gLd_WlA9Jq"
      }
    },
    {
      "cell_type": "code",
      "source": [
        "#@markdown # Enhanced DeepFake (Better Quality, takes more time)\n",
        "import ipywidgets as widgets\n",
        "def inf(msg, style, wdth): inf = widgets.Button(description=msg, disabled=True, button_style=style, layout=widgets.Layout(min_width=wdth));display(inf)\n",
        "dfimg = \"jenna.png\" #@param {type:\"string\"}\n",
        "apic =\"/content/gdrive/MyDrive/roop/input/\"+dfimg\n",
        "dfinvid = \"emma.mp4\" #@param {type:\"string\"}\n",
        "bpic =\"/content/gdrive/MyDrive/roop/input/\"+dfinvid\n",
        "dfoutvid = \"jenna_emma.mp4\" #@param {type:\"string\"}\n",
        "cpic =\"/content/gdrive/MyDrive/roop/output/\"+dfoutvid\n",
        "\n",
        "%cd /content/gdrive/MyDrive/roop\n",
        "\n",
        "!python run.py -s $apic -t $bpic -o $cpic --keep-frames --keep-fps --execution-provider cuda --frame-processor face_swapper face_enhancer\n",
        "inf('\\u2714 Execution Finished','success', '50px')"
      ],
      "metadata": {
        "id": "QCxaEiPp9bfX",
        "cellView": "form"
      },
      "execution_count": null,
      "outputs": []
    },
    {
      "cell_type": "markdown",
      "source": [
        "----------------------------------------------------------------------------------------------------------------------------------------------------------------------"
      ],
      "metadata": {
        "id": "SeshdiwqBHJT"
      }
    }
  ]
}
