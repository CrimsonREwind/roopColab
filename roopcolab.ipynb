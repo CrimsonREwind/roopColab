{
  "nbformat": 4,
  "nbformat_minor": 0,
  "metadata": {
    "colab": {
      "provenance": [],
      "gpuType": "T4"
    },
    "kernelspec": {
      "name": "python3",
      "display_name": "Python 3"
    },
    "language_info": {
      "name": "python"
    },
    "widgets": {
      "application/vnd.jupyter.widget-state+json": {
        "51fd46d50f584646b41bcac90dd6f66e": {
          "model_module": "@jupyter-widgets/controls",
          "model_name": "ButtonModel",
          "model_module_version": "1.5.0",
          "state": {
            "_dom_classes": [],
            "_model_module": "@jupyter-widgets/controls",
            "_model_module_version": "1.5.0",
            "_model_name": "ButtonModel",
            "_view_count": null,
            "_view_module": "@jupyter-widgets/controls",
            "_view_module_version": "1.5.0",
            "_view_name": "ButtonView",
            "button_style": "success",
            "description": "✔ Done",
            "disabled": true,
            "icon": "",
            "layout": "IPY_MODEL_45cc2c3600fa4b51a6df6caa940c24f6",
            "style": "IPY_MODEL_974edfa81c2e437fa0b5ec5b729c170c",
            "tooltip": ""
          }
        },
        "45cc2c3600fa4b51a6df6caa940c24f6": {
          "model_module": "@jupyter-widgets/base",
          "model_name": "LayoutModel",
          "model_module_version": "1.2.0",
          "state": {
            "_model_module": "@jupyter-widgets/base",
            "_model_module_version": "1.2.0",
            "_model_name": "LayoutModel",
            "_view_count": null,
            "_view_module": "@jupyter-widgets/base",
            "_view_module_version": "1.2.0",
            "_view_name": "LayoutView",
            "align_content": null,
            "align_items": null,
            "align_self": null,
            "border": null,
            "bottom": null,
            "display": null,
            "flex": null,
            "flex_flow": null,
            "grid_area": null,
            "grid_auto_columns": null,
            "grid_auto_flow": null,
            "grid_auto_rows": null,
            "grid_column": null,
            "grid_gap": null,
            "grid_row": null,
            "grid_template_areas": null,
            "grid_template_columns": null,
            "grid_template_rows": null,
            "height": null,
            "justify_content": null,
            "justify_items": null,
            "left": null,
            "margin": null,
            "max_height": null,
            "max_width": null,
            "min_height": null,
            "min_width": "50px",
            "object_fit": null,
            "object_position": null,
            "order": null,
            "overflow": null,
            "overflow_x": null,
            "overflow_y": null,
            "padding": null,
            "right": null,
            "top": null,
            "visibility": null,
            "width": null
          }
        },
        "974edfa81c2e437fa0b5ec5b729c170c": {
          "model_module": "@jupyter-widgets/controls",
          "model_name": "ButtonStyleModel",
          "model_module_version": "1.5.0",
          "state": {
            "_model_module": "@jupyter-widgets/controls",
            "_model_module_version": "1.5.0",
            "_model_name": "ButtonStyleModel",
            "_view_count": null,
            "_view_module": "@jupyter-widgets/base",
            "_view_module_version": "1.2.0",
            "_view_name": "StyleView",
            "button_color": null,
            "font_weight": ""
          }
        },
        "30dd5ea8cff74daf87191083e81d21a5": {
          "model_module": "@jupyter-widgets/controls",
          "model_name": "ButtonModel",
          "model_module_version": "1.5.0",
          "state": {
            "_dom_classes": [],
            "_model_module": "@jupyter-widgets/controls",
            "_model_module_version": "1.5.0",
            "_model_name": "ButtonModel",
            "_view_count": null,
            "_view_module": "@jupyter-widgets/controls",
            "_view_module_version": "1.5.0",
            "_view_name": "ButtonView",
            "button_style": "success",
            "description": "✔ Execution Finished",
            "disabled": true,
            "icon": "",
            "layout": "IPY_MODEL_bc279e9638b94bdc974369437fc28966",
            "style": "IPY_MODEL_02d60f78e38b4084887296de8a527d78",
            "tooltip": ""
          }
        },
        "bc279e9638b94bdc974369437fc28966": {
          "model_module": "@jupyter-widgets/base",
          "model_name": "LayoutModel",
          "model_module_version": "1.2.0",
          "state": {
            "_model_module": "@jupyter-widgets/base",
            "_model_module_version": "1.2.0",
            "_model_name": "LayoutModel",
            "_view_count": null,
            "_view_module": "@jupyter-widgets/base",
            "_view_module_version": "1.2.0",
            "_view_name": "LayoutView",
            "align_content": null,
            "align_items": null,
            "align_self": null,
            "border": null,
            "bottom": null,
            "display": null,
            "flex": null,
            "flex_flow": null,
            "grid_area": null,
            "grid_auto_columns": null,
            "grid_auto_flow": null,
            "grid_auto_rows": null,
            "grid_column": null,
            "grid_gap": null,
            "grid_row": null,
            "grid_template_areas": null,
            "grid_template_columns": null,
            "grid_template_rows": null,
            "height": null,
            "justify_content": null,
            "justify_items": null,
            "left": null,
            "margin": null,
            "max_height": null,
            "max_width": null,
            "min_height": null,
            "min_width": "50px",
            "object_fit": null,
            "object_position": null,
            "order": null,
            "overflow": null,
            "overflow_x": null,
            "overflow_y": null,
            "padding": null,
            "right": null,
            "top": null,
            "visibility": null,
            "width": null
          }
        },
        "02d60f78e38b4084887296de8a527d78": {
          "model_module": "@jupyter-widgets/controls",
          "model_name": "ButtonStyleModel",
          "model_module_version": "1.5.0",
          "state": {
            "_model_module": "@jupyter-widgets/controls",
            "_model_module_version": "1.5.0",
            "_model_name": "ButtonStyleModel",
            "_view_count": null,
            "_view_module": "@jupyter-widgets/base",
            "_view_module_version": "1.2.0",
            "_view_name": "StyleView",
            "button_color": null,
            "font_weight": ""
          }
        },
        "a879ce7d40e1478db3036bb0a8f2f141": {
          "model_module": "@jupyter-widgets/controls",
          "model_name": "ButtonModel",
          "model_module_version": "1.5.0",
          "state": {
            "_dom_classes": [],
            "_model_module": "@jupyter-widgets/controls",
            "_model_module_version": "1.5.0",
            "_model_name": "ButtonModel",
            "_view_count": null,
            "_view_module": "@jupyter-widgets/controls",
            "_view_module_version": "1.5.0",
            "_view_name": "ButtonView",
            "button_style": "success",
            "description": "✔ Execution Finished",
            "disabled": true,
            "icon": "",
            "layout": "IPY_MODEL_e905dbd5df5041eaba08e87301578ea1",
            "style": "IPY_MODEL_2bf4ef7338084358bd6c341de18bb7e3",
            "tooltip": ""
          }
        },
        "e905dbd5df5041eaba08e87301578ea1": {
          "model_module": "@jupyter-widgets/base",
          "model_name": "LayoutModel",
          "model_module_version": "1.2.0",
          "state": {
            "_model_module": "@jupyter-widgets/base",
            "_model_module_version": "1.2.0",
            "_model_name": "LayoutModel",
            "_view_count": null,
            "_view_module": "@jupyter-widgets/base",
            "_view_module_version": "1.2.0",
            "_view_name": "LayoutView",
            "align_content": null,
            "align_items": null,
            "align_self": null,
            "border": null,
            "bottom": null,
            "display": null,
            "flex": null,
            "flex_flow": null,
            "grid_area": null,
            "grid_auto_columns": null,
            "grid_auto_flow": null,
            "grid_auto_rows": null,
            "grid_column": null,
            "grid_gap": null,
            "grid_row": null,
            "grid_template_areas": null,
            "grid_template_columns": null,
            "grid_template_rows": null,
            "height": null,
            "justify_content": null,
            "justify_items": null,
            "left": null,
            "margin": null,
            "max_height": null,
            "max_width": null,
            "min_height": null,
            "min_width": "50px",
            "object_fit": null,
            "object_position": null,
            "order": null,
            "overflow": null,
            "overflow_x": null,
            "overflow_y": null,
            "padding": null,
            "right": null,
            "top": null,
            "visibility": null,
            "width": null
          }
        },
        "2bf4ef7338084358bd6c341de18bb7e3": {
          "model_module": "@jupyter-widgets/controls",
          "model_name": "ButtonStyleModel",
          "model_module_version": "1.5.0",
          "state": {
            "_model_module": "@jupyter-widgets/controls",
            "_model_module_version": "1.5.0",
            "_model_name": "ButtonStyleModel",
            "_view_count": null,
            "_view_module": "@jupyter-widgets/base",
            "_view_module_version": "1.2.0",
            "_view_name": "StyleView",
            "button_color": null,
            "font_weight": ""
          }
        },
        "d348181317ab4dce8046953f32c53bea": {
          "model_module": "@jupyter-widgets/controls",
          "model_name": "ButtonModel",
          "model_module_version": "1.5.0",
          "state": {
            "_dom_classes": [],
            "_model_module": "@jupyter-widgets/controls",
            "_model_module_version": "1.5.0",
            "_model_name": "ButtonModel",
            "_view_count": null,
            "_view_module": "@jupyter-widgets/controls",
            "_view_module_version": "1.5.0",
            "_view_name": "ButtonView",
            "button_style": "success",
            "description": "✔ Execution Finished",
            "disabled": true,
            "icon": "",
            "layout": "IPY_MODEL_305c90c719fb4916a94a6d1aba85132c",
            "style": "IPY_MODEL_57aeb55e240c4f8e983c2c73b67b181b",
            "tooltip": ""
          }
        },
        "305c90c719fb4916a94a6d1aba85132c": {
          "model_module": "@jupyter-widgets/base",
          "model_name": "LayoutModel",
          "model_module_version": "1.2.0",
          "state": {
            "_model_module": "@jupyter-widgets/base",
            "_model_module_version": "1.2.0",
            "_model_name": "LayoutModel",
            "_view_count": null,
            "_view_module": "@jupyter-widgets/base",
            "_view_module_version": "1.2.0",
            "_view_name": "LayoutView",
            "align_content": null,
            "align_items": null,
            "align_self": null,
            "border": null,
            "bottom": null,
            "display": null,
            "flex": null,
            "flex_flow": null,
            "grid_area": null,
            "grid_auto_columns": null,
            "grid_auto_flow": null,
            "grid_auto_rows": null,
            "grid_column": null,
            "grid_gap": null,
            "grid_row": null,
            "grid_template_areas": null,
            "grid_template_columns": null,
            "grid_template_rows": null,
            "height": null,
            "justify_content": null,
            "justify_items": null,
            "left": null,
            "margin": null,
            "max_height": null,
            "max_width": null,
            "min_height": null,
            "min_width": "50px",
            "object_fit": null,
            "object_position": null,
            "order": null,
            "overflow": null,
            "overflow_x": null,
            "overflow_y": null,
            "padding": null,
            "right": null,
            "top": null,
            "visibility": null,
            "width": null
          }
        },
        "57aeb55e240c4f8e983c2c73b67b181b": {
          "model_module": "@jupyter-widgets/controls",
          "model_name": "ButtonStyleModel",
          "model_module_version": "1.5.0",
          "state": {
            "_model_module": "@jupyter-widgets/controls",
            "_model_module_version": "1.5.0",
            "_model_name": "ButtonStyleModel",
            "_view_count": null,
            "_view_module": "@jupyter-widgets/base",
            "_view_module_version": "1.2.0",
            "_view_name": "StyleView",
            "button_color": null,
            "font_weight": ""
          }
        }
      }
    },
    "accelerator": "GPU"
  },
  "cells": [
    {
      "cell_type": "markdown",
      "source": [
        "#ROOP DEEPFAKE GOOGLE COLAB"
      ],
      "metadata": {
        "id": "MLYxPksNKiuH"
      }
    },
    {
      "cell_type": "markdown",
      "source": [
        "----------------------------------------------------------------------------------------------------------------------------------------------------------------------"
      ],
      "metadata": {
        "id": "fGWIQb7ZBAQo"
      }
    },
    {
      "cell_type": "markdown",
      "source": [
        "#INSTRUCTIONS\n",
        "1- \"Connect Google Drive\". it will mount/connect your google drive storage to colab.  Run it every time you reconnect.\n",
        "\n",
        "2- \"install repo\". it will download ROOP repository on your Gdrive. do this step once, if you have deleted the repo files from your google drive run it again.\n",
        "\n",
        "3- \"Requirements\". it will Downlaod and install all requirements for ROOP Run it every time you reconnect.\n",
        "\n",
        "4- \"Download Model\". You need to do this step one Unless you deleted the model from your Gdrive.\n",
        "\n",
        "5- \"Normal DeepFake\" & \"Enhanced DeepFake\"\n",
        "\n",
        "* dfimg - image input\n",
        "\n",
        "* dfinvid - video input\n",
        "\n",
        "* dfoutvid - final video output\n",
        "\n",
        "\n"
      ],
      "metadata": {
        "id": "ze0rOz23Py9k"
      }
    },
    {
      "cell_type": "markdown",
      "source": [
        "----------------------------------------------------------------------------------------------------------------------------------------------------------------------"
      ],
      "metadata": {
        "id": "Owj9k67AA_UT"
      }
    },
    {
      "cell_type": "code",
      "source": [
        "#@markdown # Connect Google Drive\n",
        "from google.colab import drive\n",
        "from IPython.display import clear_output\n",
        "import ipywidgets as widgets\n",
        "\n",
        "def inf(msg, style, wdth): inf = widgets.Button(description=msg, disabled=True, button_style=style, layout=widgets.Layout(min_width=wdth));display(inf)\n",
        "print(\"\u001b[0;33mConnecting...\")\n",
        "drive.mount('/content/gdrive')\n",
        "\n",
        "clear_output()\n",
        "inf('\\u2714 Done','success', '50px')\n",
        "\n"
      ],
      "metadata": {
        "colab": {
          "base_uri": "https://localhost:8080/",
          "height": 49,
          "referenced_widgets": [
            "51fd46d50f584646b41bcac90dd6f66e",
            "45cc2c3600fa4b51a6df6caa940c24f6",
            "974edfa81c2e437fa0b5ec5b729c170c"
          ]
        },
        "id": "ZMfmCDGA5u-8",
        "outputId": "49f02844-0786-4d22-9ba2-b5dc14c54e74",
        "cellView": "form"
      },
      "execution_count": null,
      "outputs": [
        {
          "output_type": "display_data",
          "data": {
            "text/plain": [
              "Button(button_style='success', description='✔ Done', disabled=True, layout=Layout(min_width='50px'), style=But…"
            ],
            "application/vnd.jupyter.widget-view+json": {
              "version_major": 2,
              "version_minor": 0,
              "model_id": "51fd46d50f584646b41bcac90dd6f66e"
            }
          },
          "metadata": {}
        }
      ]
    },
    {
      "cell_type": "markdown",
      "source": [
        "----------------------------------------------------------------------------------------------------------------------------------------------------------------------"
      ],
      "metadata": {
        "id": "12qQweoJA0pL"
      }
    },
    {
      "cell_type": "code",
      "source": [
        "#@markdown # Install Repo\n",
        "from IPython.display import clear_output\n",
        "import time\n",
        "import ipywidgets as widgets\n",
        "def inf(msg, style, wdth): inf = widgets.Button(description=msg, disabled=True, button_style=style, layout=widgets.Layout(min_width=wdth));display(inf)\n",
        "%cd /content/gdrive/MyDrive\n",
        "!git clone https://github.com/s0md3v/roop\n",
        "print(\"CHECK FOR ANY ERROR\")\n",
        "time.sleep(5)\n",
        "clear_output()\n",
        "inf('\\u2714 Execution Finished','success', '50px')\n"
      ],
      "metadata": {
        "id": "lpJK-dS36G7E",
        "colab": {
          "base_uri": "https://localhost:8080/",
          "height": 49,
          "referenced_widgets": [
            "30dd5ea8cff74daf87191083e81d21a5",
            "bc279e9638b94bdc974369437fc28966",
            "02d60f78e38b4084887296de8a527d78"
          ]
        },
        "cellView": "form",
        "outputId": "3f1ff593-78f6-4386-d829-526cdb8660cf"
      },
      "execution_count": null,
      "outputs": [
        {
          "output_type": "display_data",
          "data": {
            "text/plain": [
              "Button(button_style='success', description='✔ Execution Finished', disabled=True, layout=Layout(min_width='50p…"
            ],
            "application/vnd.jupyter.widget-view+json": {
              "version_major": 2,
              "version_minor": 0,
              "model_id": "30dd5ea8cff74daf87191083e81d21a5"
            }
          },
          "metadata": {}
        }
      ]
    },
    {
      "cell_type": "markdown",
      "source": [
        "----------------------------------------------------------------------------------------------------------------------------------------------------------------------"
      ],
      "metadata": {
        "id": "HJ6puXjJA5IA"
      }
    },
    {
      "cell_type": "code",
      "source": [
        "#@markdown # Requirements\n",
        "from IPython.display import clear_output\n",
        "import time\n",
        "import ipywidgets as widgets\n",
        "import os\n",
        "def inf(msg, style, wdth): inf = widgets.Button(description=msg, disabled=True, button_style=style, layout=widgets.Layout(min_width=wdth));display(inf)\n",
        "if not os.path.exists(\"/content/gdrive/MyDrive/roop/input\"):\n",
        "  !mkdir /content/gdrive/MyDrive/roop/input\n",
        "\n",
        "if not os.path.exists(\"/content/gdrive/MyDrive/roop/output\"):\n",
        "  !mkdir /content/gdrive/MyDrive/roop/output\n",
        "\n",
        "if not os.path.exists(\"/content/gdrive/MyDrive/roop/models\"):\n",
        "  !mkdir /content/gdrive/MyDrive/roop/models\n",
        "\n",
        "%cd /content/gdrive/MyDrive/roop\n",
        "!pip install onnxruntime-gpu && pip install -r requirements.txt\n",
        "print(\"CHECK FOR ANY ERROR\")\n",
        "time.sleep(5)\n",
        "clear_output()\n",
        "inf('\\u2714 Execution Finished','success', '50px')"
      ],
      "metadata": {
        "id": "WDpgSJkr7XY-",
        "colab": {
          "base_uri": "https://localhost:8080/",
          "height": 49,
          "referenced_widgets": [
            "a879ce7d40e1478db3036bb0a8f2f141",
            "e905dbd5df5041eaba08e87301578ea1",
            "2bf4ef7338084358bd6c341de18bb7e3"
          ]
        },
        "outputId": "f4f42c2d-814a-47bf-eb54-c49669e1d4c2",
        "cellView": "form"
      },
      "execution_count": null,
      "outputs": [
        {
          "output_type": "display_data",
          "data": {
            "text/plain": [
              "Button(button_style='success', description='✔ Execution Finished', disabled=True, layout=Layout(min_width='50p…"
            ],
            "application/vnd.jupyter.widget-view+json": {
              "version_major": 2,
              "version_minor": 0,
              "model_id": "a879ce7d40e1478db3036bb0a8f2f141"
            }
          },
          "metadata": {}
        }
      ]
    },
    {
      "cell_type": "markdown",
      "source": [
        "----------------------------------------------------------------------------------------------------------------------------------------------------------------------"
      ],
      "metadata": {
        "id": "4uuuaiHlA61V"
      }
    },
    {
      "cell_type": "code",
      "source": [
        "#@markdown # Download model (skip if already download)\n",
        "from IPython.display import clear_output\n",
        "import time\n",
        "import ipywidgets as widgets\n",
        "import os\n",
        "def inf(msg, style, wdth): inf = widgets.Button(description=msg, disabled=True, button_style=style, layout=widgets.Layout(min_width=wdth));display(inf)\n",
        "if not os.path.exists(\"/content/gdrive/MyDrive/roop/models\"):\n",
        "  !mkdir /content/gdrive/MyDrive/roop/models\n",
        "\n",
        "%cd /content/gdrive/MyDrive/roop/models\n",
        "!wget https://huggingface.co/CrimsonREwind/Deepinsightinswapper/resolve/main/inswapper_128.onnx\n",
        "print(\"CHECK FOR ANY ERROR\")\n",
        "time.sleep(5)\n",
        "clear_output()\n",
        "inf('\\u2714 Execution Finished','success', '50px')"
      ],
      "metadata": {
        "id": "7cVZBl6p71VY",
        "colab": {
          "base_uri": "https://localhost:8080/",
          "height": 49,
          "referenced_widgets": [
            "d348181317ab4dce8046953f32c53bea",
            "305c90c719fb4916a94a6d1aba85132c",
            "57aeb55e240c4f8e983c2c73b67b181b"
          ]
        },
        "outputId": "0dc7b7fb-18dc-4baf-f9ec-9c803d59a32a",
        "cellView": "form"
      },
      "execution_count": null,
      "outputs": [
        {
          "output_type": "display_data",
          "data": {
            "text/plain": [
              "Button(button_style='success', description='✔ Execution Finished', disabled=True, layout=Layout(min_width='50p…"
            ],
            "application/vnd.jupyter.widget-view+json": {
              "version_major": 2,
              "version_minor": 0,
              "model_id": "d348181317ab4dce8046953f32c53bea"
            }
          },
          "metadata": {}
        }
      ]
    },
    {
      "cell_type": "markdown",
      "source": [
        "----------------------------------------------------------------------------------------------------------------------------------------------------------------------"
      ],
      "metadata": {
        "id": "W8q4rOZHA8Gz"
      }
    },
    {
      "cell_type": "code",
      "source": [
        "#@markdown # Normal DeepFake\n",
        "import ipywidgets as widgets\n",
        "def inf(msg, style, wdth): inf = widgets.Button(description=msg, disabled=True, button_style=style, layout=widgets.Layout(min_width=wdth));display(inf)\n",
        "dfimg = \"jenna.png\" #@param {type:\"string\"}\n",
        "apic =\"/content/gdrive/MyDrive/roop/input/\"+dfimg\n",
        "dfinvid = \"emma.mp4\" #@param {type:\"string\"}\n",
        "bpic =\"/content/gdrive/MyDrive/roop/input/\"+dfinvid\n",
        "dfoutvid = \"jenna_emma.mp4\" #@param {type:\"string\"}\n",
        "cpic =\"/content/gdrive/MyDrive/roop/output/\"+dfoutvid\n",
        "\n",
        "%cd /content/gdrive/MyDrive/roop\n",
        "\n",
        "!python run.py -s $apic -t $bpic -o $cpic --keep-frames --keep-fps --video-quality 7 --execution-provider cuda\n",
        "inf('\\u2714 Execution Finished','success', '50px')"
      ],
      "metadata": {
        "id": "gjAFjn358jbb",
        "cellView": "form"
      },
      "execution_count": null,
      "outputs": []
    },
    {
      "cell_type": "markdown",
      "source": [
        "----------------------------------------------------------------------------------------------------------------------------------------------------------------------"
      ],
      "metadata": {
        "id": "v4gLd_WlA9Jq"
      }
    },
    {
      "cell_type": "code",
      "source": [
        "#@markdown # Enhanced DeepFake(Quality>Time)\n",
        "import ipywidgets as widgets\n",
        "def inf(msg, style, wdth): inf = widgets.Button(description=msg, disabled=True, button_style=style, layout=widgets.Layout(min_width=wdth));display(inf)\n",
        "dfimg = \"jenna.png\" #@param {type:\"string\"}\n",
        "apic =\"/content/gdrive/MyDrive/roop/input/\"+dfimg\n",
        "dfinvid = \"emma.mp4\" #@param {type:\"string\"}\n",
        "bpic =\"/content/gdrive/MyDrive/roop/input/\"+dfinvid\n",
        "dfoutvid = \"jenna_emma2.mp4\" #@param {type:\"string\"}\n",
        "cpic =\"/content/gdrive/MyDrive/roop/output/\"+dfoutvid\n",
        "\n",
        "%cd /content/gdrive/MyDrive/roop\n",
        "\n",
        "!python run.py -s $apic -t $bpic -o $cpic --keep-frames --keep-fps --video-quality 7 --execution-provider cuda --frame-processor face_swapper face_enhancer\n",
        "inf('\\u2714 Execution Finished','success', '50px')"
      ],
      "metadata": {
        "id": "QCxaEiPp9bfX",
        "cellView": "form"
      },
      "execution_count": null,
      "outputs": []
    },
    {
      "cell_type": "markdown",
      "source": [
        "----------------------------------------------------------------------------------------------------------------------------------------------------------------------"
      ],
      "metadata": {
        "id": "SeshdiwqBHJT"
      }
    }
  ]
}