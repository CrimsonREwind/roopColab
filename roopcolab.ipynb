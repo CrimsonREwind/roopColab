{
  "cells": [
    {
      "cell_type": "markdown",
      "metadata": {
        "id": "MLYxPksNKiuH"
      },
      "source": [
        "#ROOP DEEPFAKE GOOGLE COLAB"
      ]
    },
    {
      "cell_type": "markdown",
      "metadata": {
        "id": "fGWIQb7ZBAQo"
      },
      "source": [
        "----------------------------------------------------------------------------------------------------------------------------------------------------------------------"
      ]
    },
    {
      "cell_type": "markdown",
      "metadata": {
        "id": "ze0rOz23Py9k"
      },
      "source": [
        "#INSTRUCTIONS\n",
        "1- \"Connect Google Drive\". it will mount/connect your google drive storage to colab.  Run it every time you reconnect.\n",
        "\n",
        "2- \"install repo\". it will download ROOP repository on your Gdrive. do this step once, if you have deleted the repo files from your google drive run it again.\n",
        "\n",
        "3- \"Requirements\". it will Downlaod and install all requirements for ROOP Run it every time you reconnect.\n",
        "\n",
        "4- \"Download Model\". You need to do this step one Unless you deleted the model from your Gdrive.\n",
        "\n",
        "5- \"Normal DeepFake\" & \"Enhanced DeepFake\"\n",
        "\n",
        "* dfimg - image input\n",
        "\n",
        "* dfinvid - video input\n",
        "\n",
        "* dfoutvid - final video output\n",
        "\n",
        "\n"
      ]
    },
    {
      "cell_type": "markdown",
      "metadata": {
        "id": "Owj9k67AA_UT"
      },
      "source": [
        "----------------------------------------------------------------------------------------------------------------------------------------------------------------------"
      ]
    },
    {
      "cell_type": "code",
      "execution_count": null,
      "metadata": {
        "id": "ZMfmCDGA5u-8"
      },
      "outputs": [],
      "source": [
        "#@markdown # Connect Google Drive\n",
        "from google.colab import drive\n",
        "from IPython.display import clear_output\n",
        "import ipywidgets as widgets\n",
        "\n",
        "def inf(msg, style, wdth): inf = widgets.Button(description=msg, disabled=True, button_style=style, layout=widgets.Layout(min_width=wdth));display(inf)\n",
        "print(\"\u001b[0;33mConnecting...\")\n",
        "drive.mount('/content/gdrive')\n",
        "\n",
        "clear_output()\n",
        "inf('\\u2714 Done','success', '50px')\n",
        "\n"
      ]
    },
    {
      "cell_type": "markdown",
      "metadata": {
        "id": "12qQweoJA0pL"
      },
      "source": [
        "----------------------------------------------------------------------------------------------------------------------------------------------------------------------"
      ]
    },
    {
      "cell_type": "code",
      "execution_count": null,
      "metadata": {
        "id": "lpJK-dS36G7E"
      },
      "outputs": [],
      "source": [
        "#@markdown # Install Repo\n",
        "from IPython.display import clear_output\n",
        "import time\n",
        "import ipywidgets as widgets\n",
        "def inf(msg, style, wdth): inf = widgets.Button(description=msg, disabled=True, button_style=style, layout=widgets.Layout(min_width=wdth));display(inf)\n",
        "%cd /content/gdrive/MyDrive\n",
        "!git clone https://github.com/CrimsonREwind/roopFORK.git\n",
        "print(\"CHECK FOR ANY ERROR\")\n",
        "time.sleep(5)\n",
        "clear_output()\n",
        "inf('\\u2714 Execution Finished','success', '50px')\n"
      ]
    },
    {
      "cell_type": "markdown",
      "metadata": {
        "id": "HJ6puXjJA5IA"
      },
      "source": [
        "----------------------------------------------------------------------------------------------------------------------------------------------------------------------"
      ]
    },
    {
      "cell_type": "code",
      "execution_count": null,
      "metadata": {
        "cellView": "form",
        "id": "WDpgSJkr7XY-"
      },
      "outputs": [],
      "source": [
        "#@markdown # Requirements\n",
        "from IPython.display import clear_output\n",
        "import time\n",
        "import ipywidgets as widgets\n",
        "import os\n",
        "def inf(msg, style, wdth): inf = widgets.Button(description=msg, disabled=True, button_style=style, layout=widgets.Layout(min_width=wdth));display(inf)\n",
        "if not os.path.exists(\"/content/gdrive/MyDrive/roop/input\"):\n",
        "  !mkdir /content/gdrive/MyDrive/roopFORK/input\n",
        "\n",
        "if not os.path.exists(\"/content/gdrive/MyDrive/roop/output\"):\n",
        "  !mkdir /content/gdrive/MyDrive/roopFORK/output\n",
        "\n",
        "if not os.path.exists(\"/content/gdrive/MyDrive/roop/models\"):\n",
        "  !mkdir /content/gdrive/MyDrive/roopFORK/models\n",
        "\n",
        "%cd /content/gdrive/MyDrive/roopFORK\n",
        "!pip install onnxruntime-gpu && pip install -r requirements.txt\n",
        "print(\"CHECK FOR ANY ERROR\")\n",
        "time.sleep(5)\n",
        "clear_output()\n",
        "inf('\\u2714 Execution Finished','success', '50px')"
      ]
    },
    {
      "cell_type": "markdown",
      "metadata": {
        "id": "4uuuaiHlA61V"
      },
      "source": [
        "----------------------------------------------------------------------------------------------------------------------------------------------------------------------"
      ]
    },
    {
      "cell_type": "code",
      "execution_count": null,
      "metadata": {
        "id": "7cVZBl6p71VY"
      },
      "outputs": [],
      "source": [
        "#@markdown # Download model (skip if already downloaded)\n",
        "from IPython.display import clear_output\n",
        "import time\n",
        "import ipywidgets as widgets\n",
        "import os\n",
        "def inf(msg, style, wdth): inf = widgets.Button(description=msg, disabled=True, button_style=style, layout=widgets.Layout(min_width=wdth));display(inf)\n",
        "if not os.path.exists(\"/content/gdrive/MyDrive/roopFORK/models\"):\n",
        "  !mkdir /content/gdrive/MyDrive/roopFORK/models\n",
        "\n",
        "%cd /content/gdrive/MyDrive/roopFORK/models\n",
        "!wget https://huggingface.co/CrimsonREwind/Deepinsightinswapper/resolve/main/inswapper_128.onnx\n",
        "print(\"CHECK FOR ANY ERROR\")\n",
        "time.sleep(5)\n",
        "clear_output()\n",
        "inf('\\u2714 Execution Finished','success', '50px')"
      ]
    },
    {
      "cell_type": "markdown",
      "metadata": {
        "id": "W8q4rOZHA8Gz"
      },
      "source": [
        "----------------------------------------------------------------------------------------------------------------------------------------------------------------------"
      ]
    },
    {
      "cell_type": "code",
      "execution_count": null,
      "metadata": {
        "id": "gjAFjn358jbb"
      },
      "outputs": [],
      "source": [
        "#@markdown # Normal DeepFake\n",
        "import ipywidgets as widgets\n",
        "def inf(msg, style, wdth): inf = widgets.Button(description=msg, disabled=True, button_style=style, layout=widgets.Layout(min_width=wdth));display(inf)\n",
        "dfimg = \"jenna.png\" #@param {type:\"string\"}\n",
        "apic =\"/content/gdrive/MyDrive/roop/input/\"+dfimg\n",
        "dfinvid = \"emma.mp4\" #@param {type:\"string\"}\n",
        "bpic =\"/content/gdrive/MyDrive/roop/input/\"+dfinvid\n",
        "dfoutvid = \"jenna_emma.mp4\" #@param {type:\"string\"}\n",
        "cpic =\"/content/gdrive/MyDrive/roop/output/\"+dfoutvid\n",
        "\n",
        "%cd /content/gdrive/MyDrive/roopFORK\n",
        "\n",
        "!python run.py -s $apic -t $bpic -o $cpic --keep-frames --keep-fps --execution-provider cuda\n",
        "inf('\\u2714 Execution Finished','success', '50px')"
      ]
    },
    {
      "cell_type": "markdown",
      "metadata": {
        "id": "v4gLd_WlA9Jq"
      },
      "source": [
        "----------------------------------------------------------------------------------------------------------------------------------------------------------------------"
      ]
    },
    {
      "cell_type": "code",
      "execution_count": null,
      "metadata": {
        "id": "QCxaEiPp9bfX"
      },
      "outputs": [],
      "source": [
        "#@markdown # Enhanced DeepFake (Better Quality, takes more time)\n",
        "import ipywidgets as widgets\n",
        "def inf(msg, style, wdth): inf = widgets.Button(description=msg, disabled=True, button_style=style, layout=widgets.Layout(min_width=wdth));display(inf)\n",
        "dfimg = \"jenna.png\" #@param {type:\"string\"}\n",
        "apic =\"/content/gdrive/MyDrive/roop/input/\"+dfimg\n",
        "dfinvid = \"emma.mp4\" #@param {type:\"string\"}\n",
        "bpic =\"/content/gdrive/MyDrive/roop/input/\"+dfinvid\n",
        "dfoutvid = \"jenna_emma.mp4\" #@param {type:\"string\"}\n",
        "cpic =\"/content/gdrive/MyDrive/roop/output/\"+dfoutvid\n",
        "\n",
        "%cd /content/gdrive/MyDrive/roopFORK\n",
        "\n",
        "!python run.py -s $apic -t $bpic -o $cpic --keep-frames --keep-fps --execution-provider cuda --frame-processor face_swapper face_enhancer\n",
        "inf('\\u2714 Execution Finished','success', '50px')"
      ]
    },
    {
      "cell_type": "code",
      "execution_count": null,
      "metadata": {},
      "outputs": [],
      "source": [
        "!pip install -q streamlit\n",
        "\n",
        "import streamlit as st\n",
        "\n",
        "%cd /content/gdrive/MyDrive/roopFORK\n",
        "!npm install localtunnel\n",
        "!streamlit run app.py &>/content/logs.txt &\n",
        "!npx localtunnel --port 8501\n" 
      ]
    },
    {
      "cell_type": "markdown",
      "metadata": {
        "id": "SeshdiwqBHJT"
      },
      "source": [
        "----------------------------------------------------------------------------------------------------------------------------------------------------------------------"
      ]
    }
  ],
  "metadata": {
    "accelerator": "GPU",
    "colab": {
      "gpuType": "T4",
      "provenance": []
    },
    "kernelspec": {
      "display_name": "Python 3",
      "name": "python3"
    },
    "language_info": {
      "name": "python"
    }
  },
  "nbformat": 4,
  "nbformat_minor": 0
}
