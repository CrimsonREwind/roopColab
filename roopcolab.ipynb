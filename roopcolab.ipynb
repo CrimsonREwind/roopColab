{
  "cells": [
    {
      "cell_type": "markdown",
      "metadata": {
        "id": "MLYxPksNKiuH"
      },
      "source": [
        "# ROOP DEEPFAKE GOOGLE COLAB"
      ]
    },
    {
      "cell_type": "markdown",
      "metadata": {
        "id": "Owj9k67AA_UT"
      },
      "source": [
        "----------------------------------------------------------------------------------------------------------------------------------------------------------------------"
      ]
    },
    {
      "cell_type": "markdown",
      "metadata": {
        "id": "12qQweoJA0pL"
      },
      "source": [
        "----------------------------------------------------------------------------------------------------------------------------------------------------------------------"
      ]
    },
    {
      "cell_type": "code",
      "execution_count": 1,
      "metadata": {
        "cellView": "form",
        "id": "lpJK-dS36G7E",
        "outputId": "6b69846c-7dff-4585-bcf0-478d9b4b9077",
        "colab": {
          "base_uri": "https://localhost:8080/",
          "height": 49,
          "referenced_widgets": [
            "610830a51bb749d792cf48d50ffbb31d",
            "19b7d1d322f0428fbe1071b4fb96307f",
            "1a27ccf5b10f4c94a9a60c45f145f660"
          ]
        }
      },
      "outputs": [
        {
          "output_type": "display_data",
          "data": {
            "text/plain": [
              "Button(button_style='success', description='✔ Execution Finished', disabled=True, layout=Layout(min_width='50p…"
            ],
            "application/vnd.jupyter.widget-view+json": {
              "version_major": 2,
              "version_minor": 0,
              "model_id": "610830a51bb749d792cf48d50ffbb31d"
            }
          },
          "metadata": {}
        }
      ],
      "source": [
        "#@markdown # Install Repo\n",
        "\n",
        "import ipywidgets as widgets\n",
        "def inf(msg, style, wdth): inf = widgets.Button(description=msg, disabled=True, button_style=style, layout=widgets.Layout(min_width=wdth));display(inf)\n",
        "%cd /content/\n",
        "!git clone https://github.com/s0md3v/roop\n",
        "!git clone https://github.com/CrimsonREwind/roopColab\n",
        "print(\"CHECK FOR ANY ERROR\")\n",
        "\n",
        "inf('\\u2714 Execution Finished','success', '50px')\n"
      ]
    },
    {
      "cell_type": "markdown",
      "metadata": {
        "id": "HJ6puXjJA5IA"
      },
      "source": [
        "----------------------------------------------------------------------------------------------------------------------------------------------------------------------"
      ]
    },
    {
      "cell_type": "code",
      "execution_count": 2,
      "metadata": {
        "cellView": "form",
        "id": "WDpgSJkr7XY-",
        "outputId": "8be5ec8e-f2e9-4683-83ee-eeb663aa8589",
        "colab": {
          "base_uri": "https://localhost:8080/",
          "height": 49,
          "referenced_widgets": [
            "dab105b29cac4e98824a15420a9f8a59",
            "eca269b253164dcb8637ea3bc8de4e40",
            "eed504b6f20d44b4a4abd6c8358029e8"
          ]
        }
      },
      "outputs": [
        {
          "output_type": "display_data",
          "data": {
            "text/plain": [
              "Button(button_style='success', description='✔ Execution Finished', disabled=True, layout=Layout(min_width='50p…"
            ],
            "application/vnd.jupyter.widget-view+json": {
              "version_major": 2,
              "version_minor": 0,
              "model_id": "dab105b29cac4e98824a15420a9f8a59"
            }
          },
          "metadata": {}
        }
      ],
      "source": [
        "#@markdown # Requirements\n",
        "import ipywidgets as widgets\n",
        "import os\n",
        "def inf(msg, style, wdth): inf = widgets.Button(description=msg, disabled=True, button_style=style, layout=widgets.Layout(min_width=wdth));display(inf)\n",
        "if not os.path.exists(\"/content/roop/input\"):\n",
        "  !mkdir /content/roop/input\n",
        "\n",
        "if not os.path.exists(\"/content/roop/output\"):\n",
        "  !mkdir /content/roop/output\n",
        "\n",
        "if not os.path.exists(\"/content/roop/models\"):\n",
        "  !mkdir /content/roop/models\n",
        "\n",
        "%cd /content/roop\n",
        "!pip install onnxruntime-gpu && pip install -r requirements.txt\n",
        "!pip install -q streamlit\n",
        "print(\"CHECK FOR ANY ERROR\")\n",
        "inf('\\u2714 Execution Finished','success', '50px')"
      ]
    },
    {
      "cell_type": "markdown",
      "metadata": {
        "id": "4uuuaiHlA61V"
      },
      "source": [
        "----------------------------------------------------------------------------------------------------------------------------------------------------------------------"
      ]
    },
    {
      "cell_type": "code",
      "execution_count": 3,
      "metadata": {
        "cellView": "form",
        "id": "7cVZBl6p71VY",
        "outputId": "cb0672a9-edd3-4625-9a7e-8cd791a8e953",
        "colab": {
          "base_uri": "https://localhost:8080/",
          "height": 49,
          "referenced_widgets": [
            "e8eb3036ce3744258d787ed967d898c7",
            "33e24fc6f2504823960987af6cc5950d",
            "c9ae57839f11440d8b196f6183d3d830"
          ]
        }
      },
      "outputs": [
        {
          "output_type": "display_data",
          "data": {
            "text/plain": [
              "Button(button_style='success', description='✔ Execution Finished', disabled=True, layout=Layout(min_width='50p…"
            ],
            "application/vnd.jupyter.widget-view+json": {
              "version_major": 2,
              "version_minor": 0,
              "model_id": "e8eb3036ce3744258d787ed967d898c7"
            }
          },
          "metadata": {}
        }
      ],
      "source": [
        "#@markdown # Download model (skip if already downloaded)\n",
        "import time\n",
        "import ipywidgets as widgets\n",
        "import os\n",
        "def inf(msg, style, wdth): inf = widgets.Button(description=msg, disabled=True, button_style=style, layout=widgets.Layout(min_width=wdth));display(inf)\n",
        "if not os.path.exists(\"/content/roop/models\"):\n",
        "  !mkdir /content/roop/models\n",
        "!cp /content/roopColab/app.py /content/roop/\n",
        "\n",
        "if not os.path.exists(\"/content/roop/models/inswapper_128.onnx\"):\n",
        "  %cd /content/roop/models\n",
        "  !wget https://huggingface.co/CrimsonREwind/Deepinsightinswapper/resolve/main/inswapper_128.onnx\n",
        "print(\"CHECK FOR ANY ERROR\")\n",
        "inf('\\u2714 Execution Finished','success', '50px')"
      ]
    },
    {
      "cell_type": "markdown",
      "metadata": {
        "id": "fd-G6iINtMV-"
      },
      "source": [
        "----------------------------------------------------------------------------------------------------------------------------------------------------------------------"
      ]
    },
    {
      "cell_type": "code",
      "execution_count": 4,
      "metadata": {
        "cellView": "form",
        "id": "br6q_M85tMV-",
        "outputId": "c5ffb07f-f040-420f-cf20-f7a7bbdc5d08",
        "colab": {
          "base_uri": "https://localhost:8080/"
        }
      },
      "outputs": [
        {
          "output_type": "stream",
          "name": "stdout",
          "text": [
            "34.87.93.104"
          ]
        }
      ],
      "source": [
        "#@markdown # Tunnel password\n",
        "!curl https://loca.lt/mytunnelpassword"
      ]
    },
    {
      "cell_type": "markdown",
      "metadata": {
        "id": "1pSpq_9ptMV-"
      },
      "source": [
        "----------------------------------------------------------------------------------------------------------------------------------------------------------------------"
      ]
    },
    {
      "cell_type": "code",
      "execution_count": null,
      "metadata": {
        "cellView": "form",
        "id": "UJnZ5UC7tMV-"
      },
      "outputs": [],
      "source": [
        "#@markdown # Start Webapp\n",
        "\n",
        "import streamlit as st\n",
        "\n",
        "%cd /content/roop\n",
        "!npm install localtunnel\n",
        "!streamlit run app.py &>/content/logs.txt &\n",
        "!npx localtunnel --port 8501\n"
      ]
    },
    {
      "cell_type": "markdown",
      "metadata": {
        "id": "Kw0bhbTstMV-"
      },
      "source": [
        "----------------------------------------------------------------------------------------------------------------------------------------------------------------------"
      ]
    }
  ],
  "metadata": {
    "accelerator": "GPU",
    "colab": {
      "gpuType": "T4",
      "provenance": []
    },
    "kernelspec": {
      "display_name": "Python 3",
      "name": "python3"
    },
    "language_info": {
      "name": "python",
      "version": "3.11.6"
    },
    "widgets": {
      "application/vnd.jupyter.widget-state+json": {
        "610830a51bb749d792cf48d50ffbb31d": {
          "model_module": "@jupyter-widgets/controls",
          "model_name": "ButtonModel",
          "model_module_version": "1.5.0",
          "state": {
            "_dom_classes": [],
            "_model_module": "@jupyter-widgets/controls",
            "_model_module_version": "1.5.0",
            "_model_name": "ButtonModel",
            "_view_count": null,
            "_view_module": "@jupyter-widgets/controls",
            "_view_module_version": "1.5.0",
            "_view_name": "ButtonView",
            "button_style": "success",
            "description": "✔ Execution Finished",
            "disabled": true,
            "icon": "",
            "layout": "IPY_MODEL_19b7d1d322f0428fbe1071b4fb96307f",
            "style": "IPY_MODEL_1a27ccf5b10f4c94a9a60c45f145f660",
            "tooltip": ""
          }
        },
        "19b7d1d322f0428fbe1071b4fb96307f": {
          "model_module": "@jupyter-widgets/base",
          "model_name": "LayoutModel",
          "model_module_version": "1.2.0",
          "state": {
            "_model_module": "@jupyter-widgets/base",
            "_model_module_version": "1.2.0",
            "_model_name": "LayoutModel",
            "_view_count": null,
            "_view_module": "@jupyter-widgets/base",
            "_view_module_version": "1.2.0",
            "_view_name": "LayoutView",
            "align_content": null,
            "align_items": null,
            "align_self": null,
            "border": null,
            "bottom": null,
            "display": null,
            "flex": null,
            "flex_flow": null,
            "grid_area": null,
            "grid_auto_columns": null,
            "grid_auto_flow": null,
            "grid_auto_rows": null,
            "grid_column": null,
            "grid_gap": null,
            "grid_row": null,
            "grid_template_areas": null,
            "grid_template_columns": null,
            "grid_template_rows": null,
            "height": null,
            "justify_content": null,
            "justify_items": null,
            "left": null,
            "margin": null,
            "max_height": null,
            "max_width": null,
            "min_height": null,
            "min_width": "50px",
            "object_fit": null,
            "object_position": null,
            "order": null,
            "overflow": null,
            "overflow_x": null,
            "overflow_y": null,
            "padding": null,
            "right": null,
            "top": null,
            "visibility": null,
            "width": null
          }
        },
        "1a27ccf5b10f4c94a9a60c45f145f660": {
          "model_module": "@jupyter-widgets/controls",
          "model_name": "ButtonStyleModel",
          "model_module_version": "1.5.0",
          "state": {
            "_model_module": "@jupyter-widgets/controls",
            "_model_module_version": "1.5.0",
            "_model_name": "ButtonStyleModel",
            "_view_count": null,
            "_view_module": "@jupyter-widgets/base",
            "_view_module_version": "1.2.0",
            "_view_name": "StyleView",
            "button_color": null,
            "font_weight": ""
          }
        },
        "dab105b29cac4e98824a15420a9f8a59": {
          "model_module": "@jupyter-widgets/controls",
          "model_name": "ButtonModel",
          "model_module_version": "1.5.0",
          "state": {
            "_dom_classes": [],
            "_model_module": "@jupyter-widgets/controls",
            "_model_module_version": "1.5.0",
            "_model_name": "ButtonModel",
            "_view_count": null,
            "_view_module": "@jupyter-widgets/controls",
            "_view_module_version": "1.5.0",
            "_view_name": "ButtonView",
            "button_style": "success",
            "description": "✔ Execution Finished",
            "disabled": true,
            "icon": "",
            "layout": "IPY_MODEL_eca269b253164dcb8637ea3bc8de4e40",
            "style": "IPY_MODEL_eed504b6f20d44b4a4abd6c8358029e8",
            "tooltip": ""
          }
        },
        "eca269b253164dcb8637ea3bc8de4e40": {
          "model_module": "@jupyter-widgets/base",
          "model_name": "LayoutModel",
          "model_module_version": "1.2.0",
          "state": {
            "_model_module": "@jupyter-widgets/base",
            "_model_module_version": "1.2.0",
            "_model_name": "LayoutModel",
            "_view_count": null,
            "_view_module": "@jupyter-widgets/base",
            "_view_module_version": "1.2.0",
            "_view_name": "LayoutView",
            "align_content": null,
            "align_items": null,
            "align_self": null,
            "border": null,
            "bottom": null,
            "display": null,
            "flex": null,
            "flex_flow": null,
            "grid_area": null,
            "grid_auto_columns": null,
            "grid_auto_flow": null,
            "grid_auto_rows": null,
            "grid_column": null,
            "grid_gap": null,
            "grid_row": null,
            "grid_template_areas": null,
            "grid_template_columns": null,
            "grid_template_rows": null,
            "height": null,
            "justify_content": null,
            "justify_items": null,
            "left": null,
            "margin": null,
            "max_height": null,
            "max_width": null,
            "min_height": null,
            "min_width": "50px",
            "object_fit": null,
            "object_position": null,
            "order": null,
            "overflow": null,
            "overflow_x": null,
            "overflow_y": null,
            "padding": null,
            "right": null,
            "top": null,
            "visibility": null,
            "width": null
          }
        },
        "eed504b6f20d44b4a4abd6c8358029e8": {
          "model_module": "@jupyter-widgets/controls",
          "model_name": "ButtonStyleModel",
          "model_module_version": "1.5.0",
          "state": {
            "_model_module": "@jupyter-widgets/controls",
            "_model_module_version": "1.5.0",
            "_model_name": "ButtonStyleModel",
            "_view_count": null,
            "_view_module": "@jupyter-widgets/base",
            "_view_module_version": "1.2.0",
            "_view_name": "StyleView",
            "button_color": null,
            "font_weight": ""
          }
        },
        "e8eb3036ce3744258d787ed967d898c7": {
          "model_module": "@jupyter-widgets/controls",
          "model_name": "ButtonModel",
          "model_module_version": "1.5.0",
          "state": {
            "_dom_classes": [],
            "_model_module": "@jupyter-widgets/controls",
            "_model_module_version": "1.5.0",
            "_model_name": "ButtonModel",
            "_view_count": null,
            "_view_module": "@jupyter-widgets/controls",
            "_view_module_version": "1.5.0",
            "_view_name": "ButtonView",
            "button_style": "success",
            "description": "✔ Execution Finished",
            "disabled": true,
            "icon": "",
            "layout": "IPY_MODEL_33e24fc6f2504823960987af6cc5950d",
            "style": "IPY_MODEL_c9ae57839f11440d8b196f6183d3d830",
            "tooltip": ""
          }
        },
        "33e24fc6f2504823960987af6cc5950d": {
          "model_module": "@jupyter-widgets/base",
          "model_name": "LayoutModel",
          "model_module_version": "1.2.0",
          "state": {
            "_model_module": "@jupyter-widgets/base",
            "_model_module_version": "1.2.0",
            "_model_name": "LayoutModel",
            "_view_count": null,
            "_view_module": "@jupyter-widgets/base",
            "_view_module_version": "1.2.0",
            "_view_name": "LayoutView",
            "align_content": null,
            "align_items": null,
            "align_self": null,
            "border": null,
            "bottom": null,
            "display": null,
            "flex": null,
            "flex_flow": null,
            "grid_area": null,
            "grid_auto_columns": null,
            "grid_auto_flow": null,
            "grid_auto_rows": null,
            "grid_column": null,
            "grid_gap": null,
            "grid_row": null,
            "grid_template_areas": null,
            "grid_template_columns": null,
            "grid_template_rows": null,
            "height": null,
            "justify_content": null,
            "justify_items": null,
            "left": null,
            "margin": null,
            "max_height": null,
            "max_width": null,
            "min_height": null,
            "min_width": "50px",
            "object_fit": null,
            "object_position": null,
            "order": null,
            "overflow": null,
            "overflow_x": null,
            "overflow_y": null,
            "padding": null,
            "right": null,
            "top": null,
            "visibility": null,
            "width": null
          }
        },
        "c9ae57839f11440d8b196f6183d3d830": {
          "model_module": "@jupyter-widgets/controls",
          "model_name": "ButtonStyleModel",
          "model_module_version": "1.5.0",
          "state": {
            "_model_module": "@jupyter-widgets/controls",
            "_model_module_version": "1.5.0",
            "_model_name": "ButtonStyleModel",
            "_view_count": null,
            "_view_module": "@jupyter-widgets/base",
            "_view_module_version": "1.2.0",
            "_view_name": "StyleView",
            "button_color": null,
            "font_weight": ""
          }
        }
      }
    }
  },
  "nbformat": 4,
  "nbformat_minor": 0
}
