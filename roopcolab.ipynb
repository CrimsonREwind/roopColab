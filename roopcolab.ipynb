{
  "cells": [
    {
      "cell_type": "markdown",
      "metadata": {
        "id": "MLYxPksNKiuH"
      },
      "source": [
        "# ROOP DEEPFAKE GOOGLE COLAB"
      ]
    },
    {
      "cell_type": "markdown",
      "metadata": {
        "id": "Owj9k67AA_UT"
      },
      "source": [
        "----------------------------------------------------------------------------------------------------------------------------------------------------------------------"
      ]
    },
    {
      "cell_type": "markdown",
      "metadata": {
        "id": "12qQweoJA0pL"
      },
      "source": [
        "----------------------------------------------------------------------------------------------------------------------------------------------------------------------"
      ]
    },
    {
      "cell_type": "code",
      "execution_count": null,
      "metadata": {
        "cellView": "form",
        "id": "lpJK-dS36G7E"
      },
      "outputs": [],
      "source": [
        "#@markdown # Install Repo\n",
        "from IPython.display import clear_output\n",
        "import time\n",
        "import ipywidgets as widgets\n",
        "def inf(msg, style, wdth): inf = widgets.Button(description=msg, disabled=True, button_style=style, layout=widgets.Layout(min_width=wdth));display(inf)\n",
        "%cd /content/\n",
        "!git clone https://github.com/s0md3v/roop\n",
        "print(\"CHECK FOR ANY ERROR\")\n",
        "time.sleep(5)\n",
        "clear_output()\n",
        "inf('\\u2714 Execution Finished','success', '50px')\n"
      ]
    },
    {
      "cell_type": "markdown",
      "metadata": {
        "id": "HJ6puXjJA5IA"
      },
      "source": [
        "----------------------------------------------------------------------------------------------------------------------------------------------------------------------"
      ]
    },
    {
      "cell_type": "code",
      "execution_count": null,
      "metadata": {
        "cellView": "form",
        "id": "WDpgSJkr7XY-"
      },
      "outputs": [],
      "source": [
        "#@markdown # Requirements\n",
        "from IPython.display import clear_output\n",
        "import time\n",
        "import ipywidgets as widgets\n",
        "import os\n",
        "def inf(msg, style, wdth): inf = widgets.Button(description=msg, disabled=True, button_style=style, layout=widgets.Layout(min_width=wdth));display(inf)\n",
        "if not os.path.exists(\"/content/roop/input\"):\n",
        "  !mkdir /content/roop/input\n",
        "\n",
        "if not os.path.exists(\"/content/roop/output\"):\n",
        "  !mkdir /content/roop/output\n",
        "\n",
        "if not os.path.exists(\"/content/roop/models\"):\n",
        "  !mkdir /content/roop/models\n",
        "\n",
        "%cd /content/roop\n",
        "!pip install onnxruntime-gpu && pip install -r requirements.txt\n",
        "print(\"CHECK FOR ANY ERROR\")\n",
        "time.sleep(5)\n",
        "clear_output()\n",
        "inf('\\u2714 Execution Finished','success', '50px')"
      ]
    },
    {
      "cell_type": "markdown",
      "metadata": {
        "id": "4uuuaiHlA61V"
      },
      "source": [
        "----------------------------------------------------------------------------------------------------------------------------------------------------------------------"
      ]
    },
    {
      "cell_type": "code",
      "execution_count": null,
      "metadata": {
        "cellView": "form",
        "id": "7cVZBl6p71VY"
      },
      "outputs": [],
      "source": [
        "#@markdown # Download model (skip if already downloaded)\n",
        "from IPython.display import clear_output\n",
        "import time\n",
        "import ipywidgets as widgets\n",
        "import os\n",
        "def inf(msg, style, wdth): inf = widgets.Button(description=msg, disabled=True, button_style=style, layout=widgets.Layout(min_width=wdth));display(inf)\n",
        "if not os.path.exists(\"/content/roop/models\"):\n",
        "  !mkdir /content/roop/models\n",
        "\n",
        "!git clone https://github.com/CrimsonREwind/roopColab\n",
        "!cp /content/roopColab/app.py /content/roop/\n",
        "\n",
        "%cd /content/roop/models\n",
        "!wget https://huggingface.co/CrimsonREwind/Deepinsightinswapper/resolve/main/inswapper_128.onnx\n",
        "print(\"CHECK FOR ANY ERROR\")\n",
        "time.sleep(5)\n",
        "clear_output()\n",
        "inf('\\u2714 Execution Finished','success', '50px')"
      ]
    },
    {
      "cell_type": "markdown",
      "metadata": {
        "id": "fd-G6iINtMV-"
      },
      "source": [
        "----------------------------------------------------------------------------------------------------------------------------------------------------------------------"
      ]
    },
    {
      "cell_type": "code",
      "execution_count": null,
      "metadata": {
        "cellView": "form",
        "id": "br6q_M85tMV-"
      },
      "outputs": [],
      "source": [
        "#@markdown # Tunnel password\n",
        "!curl https://loca.lt/mytunnelpassword"
      ]
    },
    {
      "cell_type": "markdown",
      "metadata": {
        "id": "1pSpq_9ptMV-"
      },
      "source": [
        "----------------------------------------------------------------------------------------------------------------------------------------------------------------------"
      ]
    },
    {
      "cell_type": "code",
      "execution_count": null,
      "metadata": {
        "cellView": "form",
        "id": "UJnZ5UC7tMV-"
      },
      "outputs": [],
      "source": [
        "#@markdown # Start Webapp\n",
        "!pip install -q streamlit\n",
        "\n",
        "import streamlit as st\n",
        "\n",
        "%cd /content/roop\n",
        "!npm install localtunnel\n",
        "!streamlit run app.py &>/content/logs.txt &\n",
        "!npx localtunnel --port 8501\n"
      ]
    },
    {
      "cell_type": "markdown",
      "metadata": {
        "id": "Kw0bhbTstMV-"
      },
      "source": [
        "----------------------------------------------------------------------------------------------------------------------------------------------------------------------"
      ]
    }
  ],
  "metadata": {
    "accelerator": "GPU",
    "colab": {
      "gpuType": "T4",
      "provenance": []
    },
    "kernelspec": {
      "display_name": "Python 3",
      "name": "python3"
    },
    "language_info": {
      "name": "python",
      "version": "3.11.6"
    }
  },
  "nbformat": 4,
  "nbformat_minor": 0
}
