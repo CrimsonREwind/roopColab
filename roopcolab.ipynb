{
  "cells": [
    {
      "cell_type": "markdown",
      "metadata": {
        "id": "MLYxPksNKiuH"
      },
      "source": [
        "#ROOP DEEPFAKE GOOGLE COLAB"
      ]
    },
    {
      "cell_type": "markdown",
      "metadata": {
        "id": "fGWIQb7ZBAQo"
      },
      "source": [
        "----------------------------------------------------------------------------------------------------------------------------------------------------------------------"
      ]
    },
    {
      "cell_type": "markdown",
      "metadata": {
        "id": "ze0rOz23Py9k"
      },
      "source": [
        "#INSTRUCTIONS\n",
        "1- \"Connect Google Drive\". it will mount/connect your google drive storage to colab.  Run it every time you reconnect.\n",
        "\n",
        "2- \"install repo\". it will download ROOP repository on your Gdrive. do this step once, if you have deleted the repo files from your google drive run it again.\n",
        "\n",
        "3- \"Requirements\". it will Downlaod and install all requirements for ROOP Run it every time you reconnect.\n",
        "\n",
        "4- \"Download Model\". You need to do this step one Unless you deleted the model from your Gdrive.\n",
        "\n",
        "5- \"Normal DeepFake\" & \"Enhanced DeepFake\"\n",
        "\n",
        "* dfimg - image input\n",
        "\n",
        "* dfinvid - video input\n",
        "\n",
        "* dfoutvid - final video output\n",
        "\n",
        "\n"
      ]
    },
    {
      "cell_type": "markdown",
      "metadata": {
        "id": "Owj9k67AA_UT"
      },
      "source": [
        "----------------------------------------------------------------------------------------------------------------------------------------------------------------------"
      ]
    },
    {
      "cell_type": "code",
      "execution_count": null,
      "metadata": {
        "cellView": "form",
        "id": "ZMfmCDGA5u-8"
      },
      "outputs": [],
      "source": [
        "#@markdown # Connect Google Drive\n",
        "from google.colab import drive\n",
        "from IPython.display import clear_output\n",
        "import ipywidgets as widgets\n",
        "\n",
        "def inf(msg, style, wdth): inf = widgets.Button(description=msg, disabled=True, button_style=style, layout=widgets.Layout(min_width=wdth));display(inf)\n",
        "print(\"\u001b[0;33mConnecting...\")\n",
        "drive.mount('/content/gdrive')\n",
        "\n",
        "clear_output()\n",
        "inf('\\u2714 Done','success', '50px')\n",
        "\n"
      ]
    },
    {
      "cell_type": "markdown",
      "metadata": {
        "id": "12qQweoJA0pL"
      },
      "source": [
        "----------------------------------------------------------------------------------------------------------------------------------------------------------------------"
      ]
    },
    {
      "cell_type": "code",
      "execution_count": null,
      "metadata": {
        "cellView": "form",
        "id": "lpJK-dS36G7E"
      },
      "outputs": [],
      "source": [
        "#@markdown # Install Repo\n",
        "from IPython.display import clear_output\n",
        "import time\n",
        "import ipywidgets as widgets\n",
        "def inf(msg, style, wdth): inf = widgets.Button(description=msg, disabled=True, button_style=style, layout=widgets.Layout(min_width=wdth));display(inf)\n",
        "%cd /content/gdrive/MyDrive\n",
        "!git clone https://github.com/s0md3v/roop\n",
        "print(\"CHECK FOR ANY ERROR\")\n",
        "time.sleep(5)\n",
        "clear_output()\n",
        "inf('\\u2714 Execution Finished','success', '50px')\n"
      ]
    },
    {
      "cell_type": "markdown",
      "metadata": {
        "id": "HJ6puXjJA5IA"
      },
      "source": [
        "----------------------------------------------------------------------------------------------------------------------------------------------------------------------"
      ]
    },
    {
      "cell_type": "code",
      "execution_count": null,
      "metadata": {
        "cellView": "form",
        "id": "WDpgSJkr7XY-"
      },
      "outputs": [],
      "source": [
        "#@markdown # Requirements\n",
        "from IPython.display import clear_output\n",
        "import time\n",
        "import ipywidgets as widgets\n",
        "import os\n",
        "def inf(msg, style, wdth): inf = widgets.Button(description=msg, disabled=True, button_style=style, layout=widgets.Layout(min_width=wdth));display(inf)\n",
        "if not os.path.exists(\"/content/gdrive/MyDrive/roop/input\"):\n",
        "  !mkdir /content/gdrive/MyDrive/roop/input\n",
        "\n",
        "if not os.path.exists(\"/content/gdrive/MyDrive/roop/output\"):\n",
        "  !mkdir /content/gdrive/MyDrive/roop/output\n",
        "\n",
        "if not os.path.exists(\"/content/gdrive/MyDrive/roop/models\"):\n",
        "  !mkdir /content/gdrive/MyDrive/roop/models\n",
        "\n",
        "%cd /content/gdrive/MyDrive/roop\n",
        "!pip install onnxruntime-gpu && pip install -r requirements.txt\n",
        "print(\"CHECK FOR ANY ERROR\")\n",
        "time.sleep(5)\n",
        "clear_output()\n",
        "inf('\\u2714 Execution Finished','success', '50px')"
      ]
    },
    {
      "cell_type": "markdown",
      "metadata": {
        "id": "4uuuaiHlA61V"
      },
      "source": [
        "----------------------------------------------------------------------------------------------------------------------------------------------------------------------"
      ]
    },
    {
      "cell_type": "code",
      "execution_count": null,
      "metadata": {
        "cellView": "form",
        "id": "7cVZBl6p71VY"
      },
      "outputs": [],
      "source": [
        "#@markdown # Download model (skip if already downloaded)\n",
        "from IPython.display import clear_output\n",
        "import time\n",
        "import ipywidgets as widgets\n",
        "import os\n",
        "def inf(msg, style, wdth): inf = widgets.Button(description=msg, disabled=True, button_style=style, layout=widgets.Layout(min_width=wdth));display(inf)\n",
        "if not os.path.exists(\"/content/gdrive/MyDrive/roop/models\"):\n",
        "  !mkdir /content/gdrive/MyDrive/roop/models\n",
        "\n",
        "!wget https://github.com/CrimsonREwind/roopColab/blob/64055be154bf130a41f47de2dba28e8182903fc6/app.py\n",
        "!cp /content/gdrive/MyDrive/app.py /content/gdrive/MyDrive/roop\n",
        "\n",
        "%cd /content/gdrive/MyDrive/roop/models\n",
        "!wget https://huggingface.co/CrimsonREwind/Deepinsightinswapper/resolve/main/inswapper_128.onnx\n",
        "print(\"CHECK FOR ANY ERROR\")\n",
        "time.sleep(5)\n",
        "clear_output()\n",
        "inf('\\u2714 Execution Finished','success', '50px')"
      ]
    },
    {
      "cell_type": "code",
      "execution_count": null,
      "metadata": {},
      "outputs": [],
      "source": [
        "#@markdown # Tunnel password\n",
        "!curl https://loca.lt/mytunnelpassword"
      ]
    },
    {
      "cell_type": "code",
      "execution_count": null,
      "metadata": {},
      "outputs": [],
      "source": [
        "#@markdown # Start Webapp\n",
        "!pip install -q streamlit\n",
        "\n",
        "import streamlit as st\n",
        "\n",
        "%cd /content/gdrive/MyDrive/roop\n",
        "!npm install localtunnel\n",
        "!streamlit run app.py &>/content/logs.txt &\n",
        "!npx localtunnel --port 8501\n"
      ]
    }
  ],
  "metadata": {
    "accelerator": "GPU",
    "colab": {
      "gpuType": "T4",
      "provenance": []
    },
    "kernelspec": {
      "display_name": "Python 3",
      "name": "python3"
    },
    "language_info": {
      "name": "python",
      "version": "3.11.6"
    }
  },
  "nbformat": 4,
  "nbformat_minor": 0
}
